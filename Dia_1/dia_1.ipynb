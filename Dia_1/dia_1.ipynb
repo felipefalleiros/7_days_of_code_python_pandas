{
 "cells": [
  {
   "cell_type": "markdown",
   "metadata": {},
   "source": [
    "Questões de diferentes perspectivas podem surgir como:\n",
    "\n",
    "\n",
    "- A quantidade de empréstimos está aumentando ou diminuindo ao decorrer dos últimos anos?\n",
    "- Em quais bibliotecas do sistema estão a maior quantidade de empréstimos?\n",
    "- Quais são os temas mais emprestados? E os menos?"
   ]
  },
  {
   "cell_type": "markdown",
   "metadata": {},
   "source": [
    "## Importando os dados\n"
   ]
  },
  {
   "cell_type": "code",
   "execution_count": 1,
   "metadata": {},
   "outputs": [],
   "source": [
    "import pandas as pd"
   ]
  },
  {
   "cell_type": "code",
   "execution_count": null,
   "metadata": {},
   "outputs": [],
   "source": [
    "emprestimos_2010_1 = pd.read_csv('Datasets\\dados_emprestimos\\emprestimos-20101.csv')\n",
    "emprestimos_2010_2 = pd.read_csv('Datasets\\dados_emprestimos\\emprestimos-20102.csv')\n",
    "emprestimos_2011_1 = pd.read_csv('Datasets\\dados_emprestimos\\emprestimos-20111.csv')\n",
    "emprestimos_2011_2 = pd.read_csv('Datasets\\dados_emprestimos\\emprestimos-20112.csv')\n",
    "emprestimos_2012_1 = pd.read_csv('Datasets\\dados_emprestimos\\emprestimos-20121.csv')\n",
    "emprestimos_2012_2 = pd.read_csv('Datasets\\dados_emprestimos\\emprestimos-20122.csv')\n",
    "emprestimos_2013_1 = pd.read_csv('Datasets\\dados_emprestimos\\emprestimos-20131.csv')\n",
    "emprestimos_2013_2 = pd.read_csv('Datasets\\dados_emprestimos\\emprestimos-20132.csv')\n",
    "emprestimos_2014_1 = pd.read_csv('Datasets\\dados_emprestimos\\emprestimos-20141.csv')\n",
    "emprestimos_2014_2 = pd.read_csv('Datasets\\dados_emprestimos\\emprestimos-20142.csv')\n",
    "emprestimos_2015_1 = pd.read_csv('Datasets\\dados_emprestimos\\emprestimos-20151.csv')\n",
    "emprestimos_2015_2 = pd.read_csv('Datasets\\dados_emprestimos\\emprestimos-20152.csv')\n",
    "emprestimos_2016_1 = pd.read_csv('Datasets\\dados_emprestimos\\emprestimos-20161.csv')\n",
    "emprestimos_2016_2 = pd.read_csv('Datasets\\dados_emprestimos\\emprestimos-20162.csv')\n",
    "emprestimos_2017_1 = pd.read_csv('Datasets\\dados_emprestimos\\emprestimos-20171.csv')\n",
    "emprestimos_2017_2 = pd.read_csv('Datasets\\dados_emprestimos\\emprestimos-20172.csv')\n",
    "emprestimos_2018_1 = pd.read_csv('Datasets\\dados_emprestimos\\emprestimos-20181.csv')\n",
    "emprestimos_2018_2 = pd.read_csv('Datasets\\dados_emprestimos\\emprestimos-20182.csv')\n",
    "emprestimos_2019_1 = pd.read_csv('Datasets\\dados_emprestimos\\emprestimos-20191.csv')\n",
    "emprestimos_2019_2 = pd.read_csv('Datasets\\dados_emprestimos\\emprestimos-20192.csv')\n",
    "emprestimos_2020_1 = pd.read_csv('Datasets\\dados_emprestimos\\emprestimos-20201.csv')"
   ]
  },
  {
   "cell_type": "code",
   "execution_count": 3,
   "metadata": {},
   "outputs": [
    {
     "data": {
      "text/html": [
       "<div>\n",
       "<style scoped>\n",
       "    .dataframe tbody tr th:only-of-type {\n",
       "        vertical-align: middle;\n",
       "    }\n",
       "\n",
       "    .dataframe tbody tr th {\n",
       "        vertical-align: top;\n",
       "    }\n",
       "\n",
       "    .dataframe thead th {\n",
       "        text-align: right;\n",
       "    }\n",
       "</style>\n",
       "<table border=\"1\" class=\"dataframe\">\n",
       "  <thead>\n",
       "    <tr style=\"text-align: right;\">\n",
       "      <th></th>\n",
       "      <th>id_emprestimo</th>\n",
       "      <th>codigo_barras</th>\n",
       "      <th>data_renovacao</th>\n",
       "      <th>data_emprestimo</th>\n",
       "      <th>data_devolucao</th>\n",
       "      <th>matricula_ou_siape</th>\n",
       "      <th>tipo_vinculo_usuario</th>\n",
       "    </tr>\n",
       "  </thead>\n",
       "  <tbody>\n",
       "    <tr>\n",
       "      <th>0</th>\n",
       "      <td>709684</td>\n",
       "      <td>L095049</td>\n",
       "      <td>NaN</td>\n",
       "      <td>2010/01/04 07:44:10.721000000</td>\n",
       "      <td>2010/01/05 16:26:12.662000000</td>\n",
       "      <td>2.008023e+09</td>\n",
       "      <td>ALUNO DE GRADUAÇÃO</td>\n",
       "    </tr>\n",
       "    <tr>\n",
       "      <th>1</th>\n",
       "      <td>709685</td>\n",
       "      <td>L167050</td>\n",
       "      <td>NaN</td>\n",
       "      <td>2010/01/04 07:44:10.750000000</td>\n",
       "      <td>2010/01/12 07:34:13.934000000</td>\n",
       "      <td>2.008023e+09</td>\n",
       "      <td>ALUNO DE GRADUAÇÃO</td>\n",
       "    </tr>\n",
       "    <tr>\n",
       "      <th>2</th>\n",
       "      <td>709686</td>\n",
       "      <td>2006017618</td>\n",
       "      <td>2010/01/26 08:07:01.738000000</td>\n",
       "      <td>2010/01/04 08:08:44.081000000</td>\n",
       "      <td>2010/02/25 07:36:25.800000000</td>\n",
       "      <td>2.008112e+09</td>\n",
       "      <td>ALUNO DE PÓS-GRADUAÇÃO</td>\n",
       "    </tr>\n",
       "    <tr>\n",
       "      <th>3</th>\n",
       "      <td>709687</td>\n",
       "      <td>L184117</td>\n",
       "      <td>2010/01/18 11:07:46.470000000</td>\n",
       "      <td>2010/01/04 08:24:21.284000000</td>\n",
       "      <td>2010/02/03 08:58:45.692000000</td>\n",
       "      <td>2.007211e+08</td>\n",
       "      <td>ALUNO DE GRADUAÇÃO</td>\n",
       "    </tr>\n",
       "    <tr>\n",
       "      <th>4</th>\n",
       "      <td>709684</td>\n",
       "      <td>L095049</td>\n",
       "      <td>NaN</td>\n",
       "      <td>2010/01/04 07:44:10.721000000</td>\n",
       "      <td>2010/01/05 16:26:12.662000000</td>\n",
       "      <td>2.008023e+09</td>\n",
       "      <td>ALUNO DE GRADUAÇÃO</td>\n",
       "    </tr>\n",
       "  </tbody>\n",
       "</table>\n",
       "</div>"
      ],
      "text/plain": [
       "   id_emprestimo codigo_barras                 data_renovacao  \\\n",
       "0         709684       L095049                            NaN   \n",
       "1         709685       L167050                            NaN   \n",
       "2         709686    2006017618  2010/01/26 08:07:01.738000000   \n",
       "3         709687       L184117  2010/01/18 11:07:46.470000000   \n",
       "4         709684       L095049                            NaN   \n",
       "\n",
       "                 data_emprestimo                 data_devolucao  \\\n",
       "0  2010/01/04 07:44:10.721000000  2010/01/05 16:26:12.662000000   \n",
       "1  2010/01/04 07:44:10.750000000  2010/01/12 07:34:13.934000000   \n",
       "2  2010/01/04 08:08:44.081000000  2010/02/25 07:36:25.800000000   \n",
       "3  2010/01/04 08:24:21.284000000  2010/02/03 08:58:45.692000000   \n",
       "4  2010/01/04 07:44:10.721000000  2010/01/05 16:26:12.662000000   \n",
       "\n",
       "   matricula_ou_siape    tipo_vinculo_usuario  \n",
       "0        2.008023e+09      ALUNO DE GRADUAÇÃO  \n",
       "1        2.008023e+09      ALUNO DE GRADUAÇÃO  \n",
       "2        2.008112e+09  ALUNO DE PÓS-GRADUAÇÃO  \n",
       "3        2.007211e+08      ALUNO DE GRADUAÇÃO  \n",
       "4        2.008023e+09      ALUNO DE GRADUAÇÃO  "
      ]
     },
     "execution_count": 3,
     "metadata": {},
     "output_type": "execute_result"
    }
   ],
   "source": [
    "emprestimos_2010_1.head()"
   ]
  },
  {
   "cell_type": "markdown",
   "metadata": {},
   "source": [
    "Juntando todos os dados de empréstimos em uma único Data Frame visto que todas as colunas tem o mesmo rótulo"
   ]
  },
  {
   "cell_type": "code",
   "execution_count": 4,
   "metadata": {},
   "outputs": [],
   "source": [
    "df_emprestimos = pd.concat([emprestimos_2010_1, emprestimos_2010_2, emprestimos_2011_1, emprestimos_2011_2, emprestimos_2012_1, emprestimos_2012_2, emprestimos_2013_1, emprestimos_2013_2, emprestimos_2014_1, emprestimos_2014_2, emprestimos_2015_1, emprestimos_2015_2, emprestimos_2016_1, emprestimos_2016_2, emprestimos_2017_1, emprestimos_2017_2, emprestimos_2018_1, emprestimos_2018_2, emprestimos_2019_1, emprestimos_2019_2, emprestimos_2020_1])"
   ]
  },
  {
   "cell_type": "markdown",
   "metadata": {},
   "source": [
    "## Verificando dados duplicados"
   ]
  },
  {
   "cell_type": "code",
   "execution_count": 5,
   "metadata": {},
   "outputs": [
    {
     "data": {
      "text/plain": [
       "id_emprestimo  codigo_barras  data_renovacao                 data_emprestimo                data_devolucao                 matricula_ou_siape  tipo_vinculo_usuario  \n",
       "709704         2006021442     2010/01/17 18:56:43.923000000  2010/01/04 09:58:46.522000000  2010/02/01 13:59:02.528000000  2.008010e+09        ALUNO DE GRADUAÇÃO        7\n",
       "709705         2009032168     2010/01/17 18:56:43.909000000  2010/01/04 09:58:46.549000000  2010/01/20 13:14:34.464000000  2.008010e+09        ALUNO DE GRADUAÇÃO        7\n",
       "709698         2009047725     2010/01/18 14:44:41.163000000  2010/01/04 09:21:19.099000000  2010/02/02 12:02:38.444000000  2.009047e+09        ALUNO DE GRADUAÇÃO        3\n",
       "709686         2006017618     2010/01/26 08:07:01.738000000  2010/01/04 08:08:44.081000000  2010/02/25 07:36:25.800000000  2.008112e+09        ALUNO DE PÓS-GRADUAÇÃO    2\n",
       "2461099        2012008348     2016/06/27 20:35:46.855000000  2016/06/14 11:20:33.254000000  2016/07/11 14:37:29.000000000  2.015022e+09        ALUNO DE GRADUAÇÃO        2\n",
       "                                                                                                                                                                        ..\n",
       "1443389        2011018954     2013/03/22 13:18:55.037000000  2013/03/07 11:21:26.480000000  2013/04/08 20:26:07.000000000  2.010046e+09        ALUNO DE GRADUAÇÃO        1\n",
       "1443390        2009056314     2013/03/21 09:28:45.689000000  2013/03/07 11:21:28.899000000  2013/04/05 18:18:00.000000000  2.011015e+09        ALUNO DE GRADUAÇÃO        1\n",
       "1443393        2012037906     2013/03/20 20:17:10.574000000  2013/03/07 11:24:19.326000000  2013/03/25 08:58:44.000000000  2.011038e+09        ALUNO DE GRADUAÇÃO        1\n",
       "1443395        2011033069     2013/04/07 01:06:51.679000000  2013/03/07 11:25:22.661000000  2013/05/07 16:19:34.000000000  2.011106e+09        ALUNO DE PÓS-GRADUAÇÃO    1\n",
       "10322328       2014070441     2018/01/15 12:26:00.697000000  2017/12/29 18:21:09.060000000  2018/01/31 18:50:25.000000000  2.014063e+09        ALUNO DE GRADUAÇÃO        1\n",
       "Name: count, Length: 968028, dtype: int64"
      ]
     },
     "execution_count": 5,
     "metadata": {},
     "output_type": "execute_result"
    }
   ],
   "source": [
    "df_emprestimos.value_counts()"
   ]
  },
  {
   "cell_type": "code",
   "execution_count": 6,
   "metadata": {},
   "outputs": [],
   "source": [
    "df_emprestimos.drop_duplicates(inplace=True)"
   ]
  },
  {
   "cell_type": "markdown",
   "metadata": {},
   "source": [
    "Verificando se ainda existem ocorrência de dados duplicados"
   ]
  },
  {
   "cell_type": "code",
   "execution_count": 7,
   "metadata": {},
   "outputs": [
    {
     "data": {
      "text/plain": [
       "id_emprestimo  codigo_barras  data_renovacao                 data_emprestimo                data_devolucao                 matricula_ou_siape  tipo_vinculo_usuario  \n",
       "709686         2006017618     2010/01/26 08:07:01.738000000  2010/01/04 08:08:44.081000000  2010/02/25 07:36:25.800000000  2.008112e+09        ALUNO DE PÓS-GRADUAÇÃO    1\n",
       "2336122        2011033079     2016/11/21 02:01:58.488000000  2016/11/10 17:00:12.989000000  2016/12/02 14:21:49.000000000  2.016023e+09        ALUNO DE GRADUAÇÃO        1\n",
       "2336103        2014085936     2016/11/25 19:25:36.215000000  2016/11/10 16:54:52.447000000  2016/12/13 14:30:52.000000000  2.014047e+09        ALUNO DE GRADUAÇÃO        1\n",
       "2336104        2011027960     2016/11/23 17:27:54.642000000  2016/11/10 16:55:17.956000000  2016/11/28 10:32:38.000000000  2.016083e+09        ALUNO DE GRADUAÇÃO        1\n",
       "2336105        2014000897     2016/12/02 15:02:53.356000000  2016/11/10 16:55:19.851000000  2016/12/23 13:53:23.000000000  2.014071e+09        ALUNO DE GRADUAÇÃO        1\n",
       "                                                                                                                                                                        ..\n",
       "1443383        2010043058     2013/03/21 14:06:09.837000000  2013/03/07 11:17:25.008000000  2013/03/22 11:31:20.000000000  2.010023e+09        ALUNO DE GRADUAÇÃO        1\n",
       "1443387        L147018        2013/03/21 19:43:42.047000000  2013/03/07 11:20:01.159000000  2013/04/04 10:50:22.000000000  2.013053e+09        ALUNO DE GRADUAÇÃO        1\n",
       "1443389        2011018954     2013/03/22 13:18:55.037000000  2013/03/07 11:21:26.480000000  2013/04/08 20:26:07.000000000  2.010046e+09        ALUNO DE GRADUAÇÃO        1\n",
       "1443390        2009056314     2013/03/21 09:28:45.689000000  2013/03/07 11:21:28.899000000  2013/04/05 18:18:00.000000000  2.011015e+09        ALUNO DE GRADUAÇÃO        1\n",
       "10322328       2014070441     2018/01/15 12:26:00.697000000  2017/12/29 18:21:09.060000000  2018/01/31 18:50:25.000000000  2.014063e+09        ALUNO DE GRADUAÇÃO        1\n",
       "Name: count, Length: 968028, dtype: int64"
      ]
     },
     "execution_count": 7,
     "metadata": {},
     "output_type": "execute_result"
    }
   ],
   "source": [
    "df_emprestimos.value_counts()"
   ]
  },
  {
   "cell_type": "code",
   "execution_count": 8,
   "metadata": {},
   "outputs": [
    {
     "name": "stderr",
     "output_type": "stream",
     "text": [
      "<>:1: SyntaxWarning: invalid escape sequence '\\d'\n",
      "<>:1: SyntaxWarning: invalid escape sequence '\\d'\n",
      "C:\\Users\\Felipe\\AppData\\Local\\Temp\\ipykernel_15220\\987871492.py:1: SyntaxWarning: invalid escape sequence '\\d'\n",
      "  df_exemplares = pd.read_parquet('Datasets\\dados_exemplares.parquet', engine='pyarrow')\n"
     ]
    }
   ],
   "source": [
    "df_exemplares = pd.read_parquet('Datasets\\dados_exemplares.parquet', engine='pyarrow')"
   ]
  },
  {
   "cell_type": "code",
   "execution_count": 9,
   "metadata": {},
   "outputs": [
    {
     "data": {
      "text/html": [
       "<div>\n",
       "<style scoped>\n",
       "    .dataframe tbody tr th:only-of-type {\n",
       "        vertical-align: middle;\n",
       "    }\n",
       "\n",
       "    .dataframe tbody tr th {\n",
       "        vertical-align: top;\n",
       "    }\n",
       "\n",
       "    .dataframe thead th {\n",
       "        text-align: right;\n",
       "    }\n",
       "</style>\n",
       "<table border=\"1\" class=\"dataframe\">\n",
       "  <thead>\n",
       "    <tr style=\"text-align: right;\">\n",
       "      <th></th>\n",
       "      <th>id_exemplar</th>\n",
       "      <th>codigo_barras</th>\n",
       "      <th>colecao</th>\n",
       "      <th>biblioteca</th>\n",
       "      <th>status_material</th>\n",
       "      <th>localizacao</th>\n",
       "      <th>registro_sistema</th>\n",
       "    </tr>\n",
       "    <tr>\n",
       "      <th>index</th>\n",
       "      <th></th>\n",
       "      <th></th>\n",
       "      <th></th>\n",
       "      <th></th>\n",
       "      <th></th>\n",
       "      <th></th>\n",
       "      <th></th>\n",
       "    </tr>\n",
       "  </thead>\n",
       "  <tbody>\n",
       "    <tr>\n",
       "      <th>0</th>\n",
       "      <td>5</td>\n",
       "      <td>L000003</td>\n",
       "      <td>Acervo Circulante</td>\n",
       "      <td>Biblioteca Central Zila Mamede</td>\n",
       "      <td>REGULAR</td>\n",
       "      <td>694</td>\n",
       "      <td>1</td>\n",
       "    </tr>\n",
       "    <tr>\n",
       "      <th>1</th>\n",
       "      <td>4</td>\n",
       "      <td>L000002</td>\n",
       "      <td>Acervo Circulante</td>\n",
       "      <td>Biblioteca Central Zila Mamede</td>\n",
       "      <td>REGULAR</td>\n",
       "      <td>688</td>\n",
       "      <td>1</td>\n",
       "    </tr>\n",
       "    <tr>\n",
       "      <th>2</th>\n",
       "      <td>3</td>\n",
       "      <td>L000001</td>\n",
       "      <td>Acervo Circulante</td>\n",
       "      <td>Biblioteca Central Zila Mamede</td>\n",
       "      <td>ESPECIAL</td>\n",
       "      <td>638</td>\n",
       "      <td>1</td>\n",
       "    </tr>\n",
       "    <tr>\n",
       "      <th>3</th>\n",
       "      <td>7</td>\n",
       "      <td>L000114</td>\n",
       "      <td>Acervo Circulante</td>\n",
       "      <td>Biblioteca Central Zila Mamede</td>\n",
       "      <td>REGULAR</td>\n",
       "      <td>616</td>\n",
       "      <td>5</td>\n",
       "    </tr>\n",
       "    <tr>\n",
       "      <th>5</th>\n",
       "      <td>10</td>\n",
       "      <td>L000041</td>\n",
       "      <td>Acervo Circulante</td>\n",
       "      <td>Biblioteca Central Zila Mamede</td>\n",
       "      <td>ESPECIAL</td>\n",
       "      <td>657</td>\n",
       "      <td>15</td>\n",
       "    </tr>\n",
       "  </tbody>\n",
       "</table>\n",
       "</div>"
      ],
      "text/plain": [
       "       id_exemplar codigo_barras            colecao  \\\n",
       "index                                                 \n",
       "0                5       L000003  Acervo Circulante   \n",
       "1                4       L000002  Acervo Circulante   \n",
       "2                3       L000001  Acervo Circulante   \n",
       "3                7       L000114  Acervo Circulante   \n",
       "5               10       L000041  Acervo Circulante   \n",
       "\n",
       "                           biblioteca status_material  localizacao  \\\n",
       "index                                                                \n",
       "0      Biblioteca Central Zila Mamede         REGULAR          694   \n",
       "1      Biblioteca Central Zila Mamede         REGULAR          688   \n",
       "2      Biblioteca Central Zila Mamede        ESPECIAL          638   \n",
       "3      Biblioteca Central Zila Mamede         REGULAR          616   \n",
       "5      Biblioteca Central Zila Mamede        ESPECIAL          657   \n",
       "\n",
       "       registro_sistema  \n",
       "index                    \n",
       "0                     1  \n",
       "1                     1  \n",
       "2                     1  \n",
       "3                     5  \n",
       "5                    15  "
      ]
     },
     "execution_count": 9,
     "metadata": {},
     "output_type": "execute_result"
    }
   ],
   "source": [
    "df_exemplares.head()"
   ]
  },
  {
   "cell_type": "code",
   "execution_count": 10,
   "metadata": {},
   "outputs": [],
   "source": [
    "df_emprestimos['data_renovacao'] = pd.to_datetime(df_emprestimos['data_renovacao'])\n",
    "df_emprestimos['data_emprestimo'] = pd.to_datetime(df_emprestimos['data_emprestimo'])\n",
    "df_emprestimos['data_devolucao'] = pd.to_datetime(df_emprestimos['data_devolucao'])"
   ]
  },
  {
   "cell_type": "code",
   "execution_count": 11,
   "metadata": {},
   "outputs": [
    {
     "name": "stdout",
     "output_type": "stream",
     "text": [
      "<class 'pandas.core.frame.DataFrame'>\n",
      "Index: 2257981 entries, 0 to 26560\n",
      "Data columns (total 7 columns):\n",
      " #   Column                Dtype         \n",
      "---  ------                -----         \n",
      " 0   id_emprestimo         int64         \n",
      " 1   codigo_barras         object        \n",
      " 2   data_renovacao        datetime64[ns]\n",
      " 3   data_emprestimo       datetime64[ns]\n",
      " 4   data_devolucao        datetime64[ns]\n",
      " 5   matricula_ou_siape    float64       \n",
      " 6   tipo_vinculo_usuario  object        \n",
      "dtypes: datetime64[ns](3), float64(1), int64(1), object(2)\n",
      "memory usage: 137.8+ MB\n"
     ]
    }
   ],
   "source": [
    "df_emprestimos.info()"
   ]
  },
  {
   "cell_type": "code",
   "execution_count": 12,
   "metadata": {},
   "outputs": [
    {
     "name": "stdout",
     "output_type": "stream",
     "text": [
      "<class 'pandas.core.frame.DataFrame'>\n",
      "Index: 546237 entries, 0 to 568584\n",
      "Data columns (total 7 columns):\n",
      " #   Column            Non-Null Count   Dtype \n",
      "---  ------            --------------   ----- \n",
      " 0   id_exemplar       546237 non-null  int64 \n",
      " 1   codigo_barras     546237 non-null  object\n",
      " 2   colecao           546237 non-null  object\n",
      " 3   biblioteca        546237 non-null  object\n",
      " 4   status_material   546237 non-null  object\n",
      " 5   localizacao       546237 non-null  int64 \n",
      " 6   registro_sistema  546237 non-null  int64 \n",
      "dtypes: int64(3), object(4)\n",
      "memory usage: 33.3+ MB\n"
     ]
    }
   ],
   "source": [
    "df_exemplares.info()"
   ]
  },
  {
   "cell_type": "markdown",
   "metadata": {},
   "source": [
    "## Mesclando os data frames"
   ]
  },
  {
   "cell_type": "code",
   "execution_count": 13,
   "metadata": {},
   "outputs": [],
   "source": [
    "df_merged = pd.merge(df_emprestimos, df_exemplares, how='inner', on='codigo_barras')"
   ]
  },
  {
   "cell_type": "code",
   "execution_count": 14,
   "metadata": {},
   "outputs": [
    {
     "data": {
      "text/html": [
       "<div>\n",
       "<style scoped>\n",
       "    .dataframe tbody tr th:only-of-type {\n",
       "        vertical-align: middle;\n",
       "    }\n",
       "\n",
       "    .dataframe tbody tr th {\n",
       "        vertical-align: top;\n",
       "    }\n",
       "\n",
       "    .dataframe thead th {\n",
       "        text-align: right;\n",
       "    }\n",
       "</style>\n",
       "<table border=\"1\" class=\"dataframe\">\n",
       "  <thead>\n",
       "    <tr style=\"text-align: right;\">\n",
       "      <th></th>\n",
       "      <th>id_emprestimo</th>\n",
       "      <th>codigo_barras</th>\n",
       "      <th>data_renovacao</th>\n",
       "      <th>data_emprestimo</th>\n",
       "      <th>data_devolucao</th>\n",
       "      <th>matricula_ou_siape</th>\n",
       "      <th>tipo_vinculo_usuario</th>\n",
       "      <th>id_exemplar</th>\n",
       "      <th>colecao</th>\n",
       "      <th>biblioteca</th>\n",
       "      <th>status_material</th>\n",
       "      <th>localizacao</th>\n",
       "      <th>registro_sistema</th>\n",
       "    </tr>\n",
       "  </thead>\n",
       "  <tbody>\n",
       "    <tr>\n",
       "      <th>0</th>\n",
       "      <td>709684</td>\n",
       "      <td>L095049</td>\n",
       "      <td>NaT</td>\n",
       "      <td>2010-01-04 07:44:10.721</td>\n",
       "      <td>2010-01-05 16:26:12.662</td>\n",
       "      <td>2.008023e+09</td>\n",
       "      <td>ALUNO DE GRADUAÇÃO</td>\n",
       "      <td>13259</td>\n",
       "      <td>Acervo Circulante</td>\n",
       "      <td>Biblioteca Central Zila Mamede</td>\n",
       "      <td>REGULAR</td>\n",
       "      <td>630</td>\n",
       "      <td>4225</td>\n",
       "    </tr>\n",
       "    <tr>\n",
       "      <th>1</th>\n",
       "      <td>709685</td>\n",
       "      <td>L167050</td>\n",
       "      <td>NaT</td>\n",
       "      <td>2010-01-04 07:44:10.750</td>\n",
       "      <td>2010-01-12 07:34:13.934</td>\n",
       "      <td>2.008023e+09</td>\n",
       "      <td>ALUNO DE GRADUAÇÃO</td>\n",
       "      <td>70865</td>\n",
       "      <td>Acervo Circulante</td>\n",
       "      <td>Biblioteca Central Zila Mamede</td>\n",
       "      <td>REGULAR</td>\n",
       "      <td>647</td>\n",
       "      <td>25009</td>\n",
       "    </tr>\n",
       "    <tr>\n",
       "      <th>2</th>\n",
       "      <td>709686</td>\n",
       "      <td>2006017618</td>\n",
       "      <td>2010-01-26 08:07:01.738</td>\n",
       "      <td>2010-01-04 08:08:44.081</td>\n",
       "      <td>2010-02-25 07:36:25.800</td>\n",
       "      <td>2.008112e+09</td>\n",
       "      <td>ALUNO DE PÓS-GRADUAÇÃO</td>\n",
       "      <td>195347</td>\n",
       "      <td>Acervo Circulante</td>\n",
       "      <td>Biblioteca Setorial Prof. Rodolfo Helinski - E...</td>\n",
       "      <td>REGULAR</td>\n",
       "      <td>640</td>\n",
       "      <td>75019</td>\n",
       "    </tr>\n",
       "    <tr>\n",
       "      <th>3</th>\n",
       "      <td>709687</td>\n",
       "      <td>L184117</td>\n",
       "      <td>2010-01-18 11:07:46.470</td>\n",
       "      <td>2010-01-04 08:24:21.284</td>\n",
       "      <td>2010-02-03 08:58:45.692</td>\n",
       "      <td>2.007211e+08</td>\n",
       "      <td>ALUNO DE GRADUAÇÃO</td>\n",
       "      <td>131639</td>\n",
       "      <td>Acervo Circulante</td>\n",
       "      <td>Biblioteca Central Zila Mamede</td>\n",
       "      <td>REGULAR</td>\n",
       "      <td>609</td>\n",
       "      <td>44494</td>\n",
       "    </tr>\n",
       "    <tr>\n",
       "      <th>4</th>\n",
       "      <td>709688</td>\n",
       "      <td>2007027500</td>\n",
       "      <td>2010-01-19 15:59:26.464</td>\n",
       "      <td>2010-01-04 08:27:33.569</td>\n",
       "      <td>2010-02-03 13:06:30.662</td>\n",
       "      <td>2.009046e+09</td>\n",
       "      <td>ALUNO DE GRADUAÇÃO</td>\n",
       "      <td>225646</td>\n",
       "      <td>Acervo Circulante</td>\n",
       "      <td>Biblioteca Central Zila Mamede</td>\n",
       "      <td>REGULAR</td>\n",
       "      <td>686</td>\n",
       "      <td>91736</td>\n",
       "    </tr>\n",
       "  </tbody>\n",
       "</table>\n",
       "</div>"
      ],
      "text/plain": [
       "   id_emprestimo codigo_barras          data_renovacao  \\\n",
       "0         709684       L095049                     NaT   \n",
       "1         709685       L167050                     NaT   \n",
       "2         709686    2006017618 2010-01-26 08:07:01.738   \n",
       "3         709687       L184117 2010-01-18 11:07:46.470   \n",
       "4         709688    2007027500 2010-01-19 15:59:26.464   \n",
       "\n",
       "          data_emprestimo          data_devolucao  matricula_ou_siape  \\\n",
       "0 2010-01-04 07:44:10.721 2010-01-05 16:26:12.662        2.008023e+09   \n",
       "1 2010-01-04 07:44:10.750 2010-01-12 07:34:13.934        2.008023e+09   \n",
       "2 2010-01-04 08:08:44.081 2010-02-25 07:36:25.800        2.008112e+09   \n",
       "3 2010-01-04 08:24:21.284 2010-02-03 08:58:45.692        2.007211e+08   \n",
       "4 2010-01-04 08:27:33.569 2010-02-03 13:06:30.662        2.009046e+09   \n",
       "\n",
       "     tipo_vinculo_usuario  id_exemplar            colecao  \\\n",
       "0      ALUNO DE GRADUAÇÃO        13259  Acervo Circulante   \n",
       "1      ALUNO DE GRADUAÇÃO        70865  Acervo Circulante   \n",
       "2  ALUNO DE PÓS-GRADUAÇÃO       195347  Acervo Circulante   \n",
       "3      ALUNO DE GRADUAÇÃO       131639  Acervo Circulante   \n",
       "4      ALUNO DE GRADUAÇÃO       225646  Acervo Circulante   \n",
       "\n",
       "                                          biblioteca status_material  \\\n",
       "0                     Biblioteca Central Zila Mamede         REGULAR   \n",
       "1                     Biblioteca Central Zila Mamede         REGULAR   \n",
       "2  Biblioteca Setorial Prof. Rodolfo Helinski - E...         REGULAR   \n",
       "3                     Biblioteca Central Zila Mamede         REGULAR   \n",
       "4                     Biblioteca Central Zila Mamede         REGULAR   \n",
       "\n",
       "   localizacao  registro_sistema  \n",
       "0          630              4225  \n",
       "1          647             25009  \n",
       "2          640             75019  \n",
       "3          609             44494  \n",
       "4          686             91736  "
      ]
     },
     "execution_count": 14,
     "metadata": {},
     "output_type": "execute_result"
    }
   ],
   "source": [
    "df_merged.head()"
   ]
  },
  {
   "cell_type": "markdown",
   "metadata": {},
   "source": [
    "### **Quais os temas mais e menos procurados?**\n",
    "\n"
   ]
  },
  {
   "cell_type": "code",
   "execution_count": 15,
   "metadata": {},
   "outputs": [
    {
     "data": {
      "text/plain": [
       "colecao\n",
       "Acervo Circulante                        2053120\n",
       "Multimeios                                  7954\n",
       "Monografias                                 4021\n",
       "Dissertações                                2406\n",
       "Obras de Referência                         1954\n",
       "Publicações de Autores do RN                 866\n",
       "Publicações da UFRN                          764\n",
       "Teses                                        714\n",
       "Folhetos                                     271\n",
       "Necessidades Educacionais Específicas        130\n",
       "Trabalho Acadêmico                           115\n",
       "Eventos                                      101\n",
       "Coleção Mossoroense                           44\n",
       "Coleção Zila Mamede                           30\n",
       "Literatura de Cordel                          24\n",
       "Obras Raras                                    8\n",
       "Name: count, dtype: int64"
      ]
     },
     "execution_count": 15,
     "metadata": {},
     "output_type": "execute_result"
    }
   ],
   "source": [
    "df_merged['colecao'].value_counts()"
   ]
  },
  {
   "cell_type": "markdown",
   "metadata": {},
   "source": [
    "### **Em quais bibliotecas do sistema estão a maior quantidade de empréstimos?**"
   ]
  },
  {
   "cell_type": "code",
   "execution_count": 16,
   "metadata": {},
   "outputs": [
    {
     "data": {
      "text/plain": [
       "biblioteca\n",
       "Biblioteca Central Zila Mamede                                                              1426122\n",
       "Biblioteca Setorial do Centro Ciências da Saúde - CCS                                        118614\n",
       "Biblioteca Setorial da Faculdade de Ciências da Saúde do Trairi - FACISA - Santa Cruz         77609\n",
       "Biblioteca Setorial Prof. Alberto Moreira Campos - ­Departamento de Odontologia               66447\n",
       "Biblioteca Setorial Profª. Maria Lúcia da Costa Bezerra - ­CERES­ - Caicó                     61478\n",
       "Biblioteca Setorial Bertha Cruz Enders - ­Escola de Saúde da UFRN - ESUFRN                    46040\n",
       "Biblioteca Setorial do Centro de Ciências Humanas, Letras e Artes - CCHLA                     40744\n",
       "Biblioteca Setorial Dr. Paulo Bezerra - EMCM/RN - Caicó                                       32097\n",
       "Biblioteca Setorial Profª. Maria José Mamede Galvão - FELCS - Currais Novos                   29089\n",
       "Biblioteca Setorial Prof. Rodolfo Helinski - Escola Agrícola de Jundiaí - EAJ  - Macaiba      27219\n",
       "Biblioteca Setorial Prof. Francisco Gurgel De Azevedo - Instituto Química - IQ                26923\n",
       "Biblioteca Setorial do Núcleo de Educação da Infância - NEI                                   23656\n",
       "Biblioteca Setorial Prof. Ronaldo Xavier de Arruda - CCET                                     22749\n",
       "Biblioteca Setorial Pe. Jaime Diniz - Escola de Música - EMUFRN                               21476\n",
       "Biblioteca Setorial do Departamento de Artes - DEART                                          17099\n",
       "Biblioteca Setorial Prof. Leopoldo Nelson - ­Centro de Biociências - CB                       12900\n",
       "Biblioteca Setorial do Centro Ciências Sociais Aplicadas - CCSA                               10533\n",
       "Biblioteca Setorial Prof. Dr. Marcelo Bezerra de Melo Tinôco - DARQ - ­CT                      5057\n",
       "Biblioteca Setorial Prof. Horácio Nicolas Solimo - ­ Engenharia Química - EQ - CT              4098\n",
       "Biblioteca Setorial Moacyr de Góes - CE                                                        1036\n",
       "Biblioteca Setorial Árvore do Conhecimento - Instituto do Cérebro - ICe                         919\n",
       "Biblioteca Setorial do Núcleo de Ensino Superior do Agreste - NESA - Nova Cruz                  617\n",
       "Name: count, dtype: int64"
      ]
     },
     "execution_count": 16,
     "metadata": {},
     "output_type": "execute_result"
    }
   ],
   "source": [
    "df_merged['biblioteca'].value_counts()"
   ]
  },
  {
   "cell_type": "markdown",
   "metadata": {},
   "source": [
    "### **A quantidade de empréstimos está aumentando ou diminuindo ao decorrer dos últimos anos?**"
   ]
  },
  {
   "cell_type": "code",
   "execution_count": 17,
   "metadata": {},
   "outputs": [],
   "source": [
    "# Cria uma nova coluna chamada ano extraindo apenas o ano da data de emprestimo\n",
    "df_merged['ano'] = df_merged['data_emprestimo'].dt.year"
   ]
  },
  {
   "cell_type": "code",
   "execution_count": 18,
   "metadata": {},
   "outputs": [
    {
     "data": {
      "text/plain": [
       "ano\n",
       "2010    161394\n",
       "2011    196390\n",
       "2012    221365\n",
       "2013    234749\n",
       "2014    219189\n",
       "2015    213582\n",
       "2016    215900\n",
       "2017    218462\n",
       "2018    194080\n",
       "2019    171801\n",
       "2020     25610\n",
       "Name: count, dtype: int64"
      ]
     },
     "execution_count": 18,
     "metadata": {},
     "output_type": "execute_result"
    }
   ],
   "source": [
    "# Conta a quantidade de vezes que cada valor de ano aparece no df e exibindo na ordem cornológica através do sort.index()\n",
    "df_merged['ano'].value_counts().sort_index()"
   ]
  },
  {
   "cell_type": "markdown",
   "metadata": {},
   "source": [
    "Através dos dados acima podemos perceber que houve um aumento na quantidade de empréstimos de 2010 a 2013, depois teve uma oscilação entre 2014 e 2017 e por fim uma queda entre 2018 e 2020, tendo tem 2020 uma queda brusca na quantidaade de empréstimos de livros.\n",
    "Essa queda brusca pode ser motivada pela maior procura de conteúdos online."
   ]
  },
  {
   "cell_type": "markdown",
   "metadata": {},
   "source": [
    "### **Quais são os tipos de usuários que mais utilizam os livros das bibliotecas?**\n"
   ]
  },
  {
   "cell_type": "code",
   "execution_count": 19,
   "metadata": {},
   "outputs": [
    {
     "data": {
      "text/plain": [
       "tipo_vinculo_usuario\n",
       "ALUNO DE GRADUAÇÃO                 1612324\n",
       "ALUNO DE PÓS-GRADUAÇÃO              302541\n",
       "DOCENTE                              70981\n",
       "SERVIDOR TÉCNICO-ADMINISTRATIVO      32184\n",
       "ALUNO MÉDIO/TÉCNICO                  28029\n",
       "DOCENTE EXTERNO                      23949\n",
       "USUÁRIO EXTERNO                       2509\n",
       "OUTROS                                   5\n",
       "Name: count, dtype: int64"
      ]
     },
     "execution_count": 19,
     "metadata": {},
     "output_type": "execute_result"
    }
   ],
   "source": [
    "df_merged['tipo_vinculo_usuario'].value_counts()"
   ]
  }
 ],
 "metadata": {
  "kernelspec": {
   "display_name": "Python 3",
   "language": "python",
   "name": "python3"
  },
  "language_info": {
   "codemirror_mode": {
    "name": "ipython",
    "version": 3
   },
   "file_extension": ".py",
   "mimetype": "text/x-python",
   "name": "python",
   "nbconvert_exporter": "python",
   "pygments_lexer": "ipython3",
   "version": "3.12.3"
  }
 },
 "nbformat": 4,
 "nbformat_minor": 2
}
